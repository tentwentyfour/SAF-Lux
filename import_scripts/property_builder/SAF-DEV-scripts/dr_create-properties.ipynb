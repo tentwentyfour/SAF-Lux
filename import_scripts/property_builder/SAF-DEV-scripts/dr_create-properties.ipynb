{
    "cells": [
        {
            "cell_type": "code",
            "execution_count": 2,
            "source": [
                "#!/usr/bin/env python\n",
                "# coding: utf-8\n",
                "\n",
                "# # Notebook to create a new LUX-SAF Wikibase instance\n",
                "# This script builds on an excel file that is provided by the data modellers. That excel file **TODO** Provide a link to repository containing the latest version(s).\n",
                "# That file contains the CIDOC-CRM representation of the SAF with mappings to the perceived Wikibase(Qualifier).\n",
                "\n",
                "from wikidataintegrator import wdi_core, wdi_login, wdi_config\n",
                "from getpass import getpass\n",
                "import pandas as pd\n",
                "import os\n",
                "\n",
                "wikibase = \"http://localhost:8080\"\n",
                "api = \"http://localhost:8080/w/api.php\"\n",
                "sparql = \"http://localhost:8282/proxy/wdqs/bigdata/namespace/wdq/sparql\"\n",
                "#entityUri = wikibase.replace(\"https:\", \"http:\")+\"entity/\"\n",
                "entityUri = \"http://mediawiki.svc/entity/\"  # this is used to strip it from results! \n",
                "\n",
                "WBUSER = \"SafAdmin\"\n",
                "#WBPASS = getpass()\n",
                "WBPASS = \"ExampleAdminPassword\"\n",
                "login = wdi_login.WDLogin(WBUSER, WBPASS, mediawiki_api_url=api)\n",
                "\n"
            ],
            "outputs": [],
            "metadata": {}
        },
        {
            "cell_type": "code",
            "execution_count": 3,
            "source": [
                "\n",
                "localEntityEngine = wdi_core.WDItemEngine.wikibase_item_engine_factory(api, sparql)\n",
                "\n",
                "## Function to create basic properties\n",
                "def createProperty(login=login, wdprop=None, lulabel=\"\", enlabel=\"\", frlabel=\"\", delabel=\"\", description=\"\", property_datatype=\"\"):\n",
                "    if wdprop == None:\n",
                "        s = []\n",
                "    else:\n",
                "        s = [wdi_core.WDUrl(wdprop, prop_nr=\"P1\")]\n",
                "    localEntityEngine = wdi_core.WDItemEngine.wikibase_item_engine_factory(api,sparql)\n",
                "    item = localEntityEngine(data=s)\n",
                "    if lulabel != \"\":\n",
                "        item.set_label(lulabel, lang=\"lb\")\n",
                "    item.set_label(enlabel, lang=\"en\")\n",
                "    item.set_label(delabel, lang=\"de\")\n",
                "    item.set_label(frlabel, lang=\"fr\")\n",
                "    item.set_description(description, lang=\"en\")\n",
                "    print(item.write(login, entity_type=\"property\", property_datatype=property_datatype))\n",
                "\n",
                "\n",
                "# # OWL properties to capture CIDOC-CRM\n",
                "\n",
                "## DR: First we create the main properties (These will become P1, P2, etc.)\n",
                "## This will fail if properties with the same label aalready exist!\n",
                "\n",
                "# instance of\n",
                "createProperty(login, lulabel=\"ass eng\",\n",
                "                      enlabel=\"instance of\",\n",
                "                      frlabel=\"instance de\",\n",
                "                      delabel=\"ist ein(e)\",\n",
                "                      property_datatype=\"wikibase-item\")\n",
                "\n",
                "# subclass of\n",
                "createProperty(login, lulabel=\"Ënnerklass vu(n)\",\n",
                "                      enlabel=\"subclass of\",\n",
                "                      frlabel=\"sous-classe de\",\n",
                "                      delabel=\"Unterklasse von\",\n",
                "                      property_datatype=\"wikibase-item\")\n",
                "# skos:exact match\n",
                "createProperty(login, lulabel=\"genauen Match\",\n",
                "                      enlabel=\"exact match\",\n",
                "                      frlabel=\"correspondance exacte\",\n",
                "                      delabel=\"exakte Übereinstimmung\",\n",
                "                      description=\"mapping\",\n",
                "                      property_datatype=\"url\")\n",
                "#domain\n",
                "createProperty(login, lulabel=\"domain\",\n",
                "                      enlabel=\"domain\",\n",
                "                      frlabel=\"domaine\",\n",
                "                      delabel=\"domain\",\n",
                "                      property_datatype=\"wikibase-item\")\n",
                "#range\n",
                "createProperty(login, lulabel=\"reechwäit\",\n",
                "                      enlabel=\"range\",\n",
                "                      frlabel=\"intervalle\",\n",
                "                      delabel=\"reichweite\",\n",
                "                      property_datatype=\"wikibase-item\")\n",
                "#subPropertyOf\n",
                "createProperty(login, lulabel=\"Ënnerbesëtz vun\",\n",
                "                      enlabel=\"subproperty of\",\n",
                "                      frlabel=\"sous-propriété de\",\n",
                "                      delabel=\"untereigenschaft von\",\n",
                "                      property_datatype=\"wikibase-item\")\n",
                "#inverseOf\n",
                "createProperty(login, lulabel=\"invers vun\",\n",
                "                      enlabel=\"inverse of\",\n",
                "                      frlabel=\"inverse de\",\n",
                "                      delabel=\"invers von\",\n",
                "                      property_datatype=\"wikibase-item\")\n",
                "\n"
            ],
            "outputs": [
                {
                    "output_type": "stream",
                    "name": "stdout",
                    "text": [
                        "Error while writing to Wikidata\n"
                    ]
                },
                {
                    "output_type": "stream",
                    "name": "stderr",
                    "text": [
                        "/home/kwisatz/.local/lib/python3.9/site-packages/wikidataintegrator/wdi_core.py:485: UserWarning: Warning: No distinct value properties found\n",
                        "Please set P2302 and Q21502410 in your wikibase or set `core_props` manually.\n",
                        "Continuing with no core_props\n",
                        "  warnings.warn(\"Warning: No distinct value properties found\\n\" +\n"
                    ]
                },
                {
                    "output_type": "error",
                    "ename": "WDApiError",
                    "evalue": "{'error': {'code': 'modification-failed', 'info': 'Property [[Property:P1|P1]] already has label \"ass eng\" associated with language code lb.', 'messages': [{'name': 'wikibase-validator-label-conflict', 'parameters': ['ass eng', 'lb', '[[Property:P1|P1]]'], 'html': {'*': 'Property <a href=\"/wiki/Property:P1\" title=\"Property:P1\">P1</a> already has label \"ass eng\" associated with language code lb.'}}], '*': 'See http://localhost:8080/w/api.php for API usage. Subscribe to the mediawiki-api-announce mailing list at &lt;https://lists.wikimedia.org/mailman/listinfo/mediawiki-api-announce&gt; for notice of API deprecations and breaking changes.'}}",
                    "traceback": [
                        "\u001b[0;31m---------------------------------------------------------------------------\u001b[0m",
                        "\u001b[0;31mWDApiError\u001b[0m                                Traceback (most recent call last)",
                        "\u001b[0;32m<ipython-input-3-a6d95154bdf2>\u001b[0m in \u001b[0;36m<module>\u001b[0;34m\u001b[0m\n\u001b[1;32m     23\u001b[0m \u001b[0;34m\u001b[0m\u001b[0m\n\u001b[1;32m     24\u001b[0m \u001b[0;31m# instance of\u001b[0m\u001b[0;34m\u001b[0m\u001b[0;34m\u001b[0m\u001b[0;34m\u001b[0m\u001b[0m\n\u001b[0;32m---> 25\u001b[0;31m createProperty(login, lulabel=\"ass eng\",\n\u001b[0m\u001b[1;32m     26\u001b[0m                       \u001b[0menlabel\u001b[0m\u001b[0;34m=\u001b[0m\u001b[0;34m\"instance of\"\u001b[0m\u001b[0;34m,\u001b[0m\u001b[0;34m\u001b[0m\u001b[0;34m\u001b[0m\u001b[0m\n\u001b[1;32m     27\u001b[0m                       \u001b[0mfrlabel\u001b[0m\u001b[0;34m=\u001b[0m\u001b[0;34m\"instance de\"\u001b[0m\u001b[0;34m,\u001b[0m\u001b[0;34m\u001b[0m\u001b[0;34m\u001b[0m\u001b[0m\n",
                        "\u001b[0;32m<ipython-input-3-a6d95154bdf2>\u001b[0m in \u001b[0;36mcreateProperty\u001b[0;34m(login, wdprop, lulabel, enlabel, frlabel, delabel, description, property_datatype)\u001b[0m\n\u001b[1;32m     15\u001b[0m     \u001b[0mitem\u001b[0m\u001b[0;34m.\u001b[0m\u001b[0mset_label\u001b[0m\u001b[0;34m(\u001b[0m\u001b[0mfrlabel\u001b[0m\u001b[0;34m,\u001b[0m \u001b[0mlang\u001b[0m\u001b[0;34m=\u001b[0m\u001b[0;34m\"fr\"\u001b[0m\u001b[0;34m)\u001b[0m\u001b[0;34m\u001b[0m\u001b[0;34m\u001b[0m\u001b[0m\n\u001b[1;32m     16\u001b[0m     \u001b[0mitem\u001b[0m\u001b[0;34m.\u001b[0m\u001b[0mset_description\u001b[0m\u001b[0;34m(\u001b[0m\u001b[0mdescription\u001b[0m\u001b[0;34m,\u001b[0m \u001b[0mlang\u001b[0m\u001b[0;34m=\u001b[0m\u001b[0;34m\"en\"\u001b[0m\u001b[0;34m)\u001b[0m\u001b[0;34m\u001b[0m\u001b[0;34m\u001b[0m\u001b[0m\n\u001b[0;32m---> 17\u001b[0;31m     \u001b[0mprint\u001b[0m\u001b[0;34m(\u001b[0m\u001b[0mitem\u001b[0m\u001b[0;34m.\u001b[0m\u001b[0mwrite\u001b[0m\u001b[0;34m(\u001b[0m\u001b[0mlogin\u001b[0m\u001b[0;34m,\u001b[0m \u001b[0mentity_type\u001b[0m\u001b[0;34m=\u001b[0m\u001b[0;34m\"property\"\u001b[0m\u001b[0;34m,\u001b[0m \u001b[0mproperty_datatype\u001b[0m\u001b[0;34m=\u001b[0m\u001b[0mproperty_datatype\u001b[0m\u001b[0;34m)\u001b[0m\u001b[0;34m)\u001b[0m\u001b[0;34m\u001b[0m\u001b[0;34m\u001b[0m\u001b[0m\n\u001b[0m\u001b[1;32m     18\u001b[0m \u001b[0;34m\u001b[0m\u001b[0m\n\u001b[1;32m     19\u001b[0m \u001b[0;34m\u001b[0m\u001b[0m\n",
                        "\u001b[0;32m~/.local/lib/python3.9/site-packages/wikidataintegrator/wdi_core.py\u001b[0m in \u001b[0;36mwrite\u001b[0;34m(self, login, bot_account, edit_summary, entity_type, property_datatype, max_retries, retry_after)\u001b[0m\n\u001b[1;32m   1275\u001b[0m                     \u001b[0;32mraise\u001b[0m \u001b[0mNonUniqueLabelDescriptionPairError\u001b[0m\u001b[0;34m(\u001b[0m\u001b[0mjson_data\u001b[0m\u001b[0;34m)\u001b[0m\u001b[0;34m\u001b[0m\u001b[0;34m\u001b[0m\u001b[0m\n\u001b[1;32m   1276\u001b[0m                 \u001b[0;32melse\u001b[0m\u001b[0;34m:\u001b[0m\u001b[0;34m\u001b[0m\u001b[0;34m\u001b[0m\u001b[0m\n\u001b[0;32m-> 1277\u001b[0;31m                     \u001b[0;32mraise\u001b[0m \u001b[0mWDApiError\u001b[0m\u001b[0;34m(\u001b[0m\u001b[0mjson_data\u001b[0m\u001b[0;34m)\u001b[0m\u001b[0;34m\u001b[0m\u001b[0;34m\u001b[0m\u001b[0m\n\u001b[0m\u001b[1;32m   1278\u001b[0m             \u001b[0;32melif\u001b[0m \u001b[0;34m'error'\u001b[0m \u001b[0;32min\u001b[0m \u001b[0mjson_data\u001b[0m\u001b[0;34m.\u001b[0m\u001b[0mkeys\u001b[0m\u001b[0;34m(\u001b[0m\u001b[0;34m)\u001b[0m\u001b[0;34m:\u001b[0m\u001b[0;34m\u001b[0m\u001b[0;34m\u001b[0m\u001b[0m\n\u001b[1;32m   1279\u001b[0m                 \u001b[0;32mraise\u001b[0m \u001b[0mWDApiError\u001b[0m\u001b[0;34m(\u001b[0m\u001b[0mjson_data\u001b[0m\u001b[0;34m)\u001b[0m\u001b[0;34m\u001b[0m\u001b[0;34m\u001b[0m\u001b[0m\n",
                        "\u001b[0;31mWDApiError\u001b[0m: {'error': {'code': 'modification-failed', 'info': 'Property [[Property:P1|P1]] already has label \"ass eng\" associated with language code lb.', 'messages': [{'name': 'wikibase-validator-label-conflict', 'parameters': ['ass eng', 'lb', '[[Property:P1|P1]]'], 'html': {'*': 'Property <a href=\"/wiki/Property:P1\" title=\"Property:P1\">P1</a> already has label \"ass eng\" associated with language code lb.'}}], '*': 'See http://localhost:8080/w/api.php for API usage. Subscribe to the mediawiki-api-announce mailing list at &lt;https://lists.wikimedia.org/mailman/listinfo/mediawiki-api-announce&gt; for notice of API deprecations and breaking changes.'}}"
                    ]
                }
            ],
            "metadata": {}
        },
        {
            "cell_type": "markdown",
            "source": [
                "Once they have been created, we fetch them from the WDQS, so that we may learn their prop (e.g. \"P1\") and corresponding label \"e.g. 'instance of'\"\n",
                "\n",
                "Q: Why do we set propertyID? it's never used afterwards!\n",
                "A: Well, in general, this looks more like a check than anything else"
            ],
            "metadata": {}
        },
        {
            "cell_type": "code",
            "execution_count": 4,
            "source": [
                "\n",
                "## This will be a list like:\n",
                "##\n",
                "# prop\tpropLabel\n",
                "# http://mediawiki.svc/entity/P1\tinstance of\n",
                "# http://mediawiki.svc/entity/P2\tsubclass of\n",
                "# See http://localhost:8080/wiki/Special:ListProperties\n",
                "\n",
                "propertyID = dict()\n",
                "query = \"\"\"SELECT ?prop ?propLabel WHERE {\n",
                "  ?prop wikibase:directClaim ?wdt .\n",
                "  SERVICE wikibase:label { bd:serviceParam wikibase:language \"[AUTO_LANGUAGE],en\". }\n",
                "}\"\"\"\n",
                "for index, row in wdi_core.WDItemEngine.execute_sparql_query(query, as_dataframe = True, endpoint=sparql).iterrows():\n",
                "    print(row[\"prop\"].replace(entityUri, \"\"), row[\"propLabel\"])\n",
                "    propertyID[row[\"propLabel\"]] = row[\"prop\"].replace(entityUri, \"\")\n"
            ],
            "outputs": [
                {
                    "output_type": "stream",
                    "name": "stdout",
                    "text": [
                        "P1 instance of\n",
                        "P2 subclass of\n",
                        "P3 exact match\n",
                        "P4 domain\n",
                        "P5 range\n",
                        "P6 subproperty of\n",
                        "P7 inverse of\n",
                        "P8 name\n",
                        "P9 name format\n",
                        "P10 numeration\n",
                        "P11 title\n",
                        "P12 source of information - text\n",
                        "P13 type of source\n",
                        "P14 superclass of\n",
                        "P16 source of information - url\n",
                        "P17 alternative name\n",
                        "P18 date of birth\n",
                        "P19 place of birth\n",
                        "P20 date of death\n",
                        "P21 place of death\n",
                        "P22 gender\n",
                        "P23 profession\n",
                        "P24 date of beginning\n",
                        "P25 end date\n",
                        "P26 activity\n",
                        "P27 internal note\n",
                        "P28 public note\n",
                        "P29 AFL identifier\n",
                        "P30 creator\n",
                        "P31 institutional affiliation\n",
                        "P32 date of creation\n",
                        "P33 date of modification\n",
                        "P34 editor\n",
                        "P35 status\n",
                        "P36 ISNI\n",
                        "P37 VIAF\n",
                        "P38 GND\n",
                        "P39 WikiData\n",
                        "P40 Getty\n",
                        "P75 ARK\n"
                    ]
                }
            ],
            "metadata": {}
        },
        {
            "cell_type": "code",
            "execution_count": 7,
            "source": [
                "## DR: We additionally create two items named \"Class\" (Q1) and \"Property\" (Q2)\n",
                "# Note: This will, however create duplicates. --> Setting new_item to False doesn't change that fact\n",
                "\n",
                "# class item\n",
                "localEntityEngine = wdi_core.WDItemEngine.wikibase_item_engine_factory(api, sparql)\n",
                "item = localEntityEngine(new_item=True)\n",
                "item.set_label(\"Class\", lang=\"en\")\n",
                "item.set_aliases([\"Owl:Class\"], lang=\"en\")\n",
                "item.write(login)\n",
                "\n",
                "# property item\n",
                "localEntityEngine = wdi_core.WDItemEngine.wikibase_item_engine_factory(api, sparql)\n",
                "item = localEntityEngine(new_item=True)\n",
                "item.set_label(\"Property\", lang=\"en\")\n",
                "item.set_aliases([\"owl:ObjectProperty\"], lang=\"en\")\n",
                "item.write(login)\n"
            ],
            "outputs": [
                {
                    "output_type": "execute_result",
                    "data": {
                        "text/plain": [
                            "'Q501'"
                        ]
                    },
                    "metadata": {},
                    "execution_count": 7
                }
            ],
            "metadata": {}
        },
        {
            "cell_type": "code",
            "execution_count": 14,
            "source": [
                "# # import data from XLSX (the DataModel for the SAF)\n",
                "model_def = pd.read_excel(\"DM_SAF_vers.1.0.2_andra.xlsx\", header=1)\n",
                "\n",
                "# # Read the property definitions from the DM_SAF and create them.\n",
                "## Some properties, such as \"subclass of\" defined in the DM have already been created previously\n",
                "\n",
                "for index, row in model_def.iterrows():\n",
                "    if row[\"Data type\"].strip() in wdi_config.property_value_types.keys():\n",
                "        print('Creating a property of type \"{}\" with label \"{}\"'.format(row[\"Data type\"], row[\"English\"].strip()))\n",
                "        try:\n",
                "            createProperty(\n",
                "                login,\n",
                "                enlabel=row[\"English\"],\n",
                "                frlabel=row[\"français\"],\n",
                "                delabel=row[\"Deutsch\"],\n",
                "                description=\"Lux SAF Property\",\n",
                "                property_datatype=row[\"Data type\"].strip()\n",
                "            )\n",
                "        except Exception as e:\n",
                "            print('Failed creating property for \"{}\". Error: \"{}\"'.format(row[\"English\"], e))\n",
                "    else:\n",
                "        print('Error: Unsupported data type \"{}\"'.format(row[\"Data type\"]))\n"
            ],
            "outputs": [
                {
                    "output_type": "stream",
                    "name": "stdout",
                    "text": [
                        "Creating a property of type \"string\" with label \"name\"\n",
                        "Error while writing to Wikidata\n"
                    ]
                },
                {
                    "output_type": "error",
                    "ename": "TypeError",
                    "evalue": "'WDApiError' object is not subscriptable",
                    "traceback": [
                        "\u001b[0;31m---------------------------------------------------------------------------\u001b[0m",
                        "\u001b[0;31mWDApiError\u001b[0m                                Traceback (most recent call last)",
                        "\u001b[0;32m<ipython-input-14-3749070ede5f>\u001b[0m in \u001b[0;36m<module>\u001b[0;34m\u001b[0m\n\u001b[1;32m     10\u001b[0m         \u001b[0;32mtry\u001b[0m\u001b[0;34m:\u001b[0m\u001b[0;34m\u001b[0m\u001b[0;34m\u001b[0m\u001b[0m\n\u001b[0;32m---> 11\u001b[0;31m             createProperty(\n\u001b[0m\u001b[1;32m     12\u001b[0m                 \u001b[0mlogin\u001b[0m\u001b[0;34m,\u001b[0m\u001b[0;34m\u001b[0m\u001b[0;34m\u001b[0m\u001b[0m\n",
                        "\u001b[0;32m<ipython-input-3-a6d95154bdf2>\u001b[0m in \u001b[0;36mcreateProperty\u001b[0;34m(login, wdprop, lulabel, enlabel, frlabel, delabel, description, property_datatype)\u001b[0m\n\u001b[1;32m     16\u001b[0m     \u001b[0mitem\u001b[0m\u001b[0;34m.\u001b[0m\u001b[0mset_description\u001b[0m\u001b[0;34m(\u001b[0m\u001b[0mdescription\u001b[0m\u001b[0;34m,\u001b[0m \u001b[0mlang\u001b[0m\u001b[0;34m=\u001b[0m\u001b[0;34m\"en\"\u001b[0m\u001b[0;34m)\u001b[0m\u001b[0;34m\u001b[0m\u001b[0;34m\u001b[0m\u001b[0m\n\u001b[0;32m---> 17\u001b[0;31m     \u001b[0mprint\u001b[0m\u001b[0;34m(\u001b[0m\u001b[0mitem\u001b[0m\u001b[0;34m.\u001b[0m\u001b[0mwrite\u001b[0m\u001b[0;34m(\u001b[0m\u001b[0mlogin\u001b[0m\u001b[0;34m,\u001b[0m \u001b[0mentity_type\u001b[0m\u001b[0;34m=\u001b[0m\u001b[0;34m\"property\"\u001b[0m\u001b[0;34m,\u001b[0m \u001b[0mproperty_datatype\u001b[0m\u001b[0;34m=\u001b[0m\u001b[0mproperty_datatype\u001b[0m\u001b[0;34m)\u001b[0m\u001b[0;34m)\u001b[0m\u001b[0;34m\u001b[0m\u001b[0;34m\u001b[0m\u001b[0m\n\u001b[0m\u001b[1;32m     18\u001b[0m \u001b[0;34m\u001b[0m\u001b[0m\n",
                        "\u001b[0;32m~/.local/lib/python3.9/site-packages/wikidataintegrator/wdi_core.py\u001b[0m in \u001b[0;36mwrite\u001b[0;34m(self, login, bot_account, edit_summary, entity_type, property_datatype, max_retries, retry_after)\u001b[0m\n\u001b[1;32m   1276\u001b[0m                 \u001b[0;32melse\u001b[0m\u001b[0;34m:\u001b[0m\u001b[0;34m\u001b[0m\u001b[0;34m\u001b[0m\u001b[0m\n\u001b[0;32m-> 1277\u001b[0;31m                     \u001b[0;32mraise\u001b[0m \u001b[0mWDApiError\u001b[0m\u001b[0;34m(\u001b[0m\u001b[0mjson_data\u001b[0m\u001b[0;34m)\u001b[0m\u001b[0;34m\u001b[0m\u001b[0;34m\u001b[0m\u001b[0m\n\u001b[0m\u001b[1;32m   1278\u001b[0m             \u001b[0;32melif\u001b[0m \u001b[0;34m'error'\u001b[0m \u001b[0;32min\u001b[0m \u001b[0mjson_data\u001b[0m\u001b[0;34m.\u001b[0m\u001b[0mkeys\u001b[0m\u001b[0;34m(\u001b[0m\u001b[0;34m)\u001b[0m\u001b[0;34m:\u001b[0m\u001b[0;34m\u001b[0m\u001b[0;34m\u001b[0m\u001b[0m\n",
                        "\u001b[0;31mWDApiError\u001b[0m: {'error': {'code': 'modification-failed', 'info': 'Property [[Property:P8|P8]] already has label \"name\" associated with language code en.', 'messages': [{'name': 'wikibase-validator-label-conflict', 'parameters': ['name', 'en', '[[Property:P8|P8]]'], 'html': {'*': 'Property <a href=\"/wiki/Property:P8\" title=\"Property:P8\">P8</a> already has label \"name\" associated with language code en.'}}], '*': 'See http://localhost:8080/w/api.php for API usage. Subscribe to the mediawiki-api-announce mailing list at &lt;https://lists.wikimedia.org/mailman/listinfo/mediawiki-api-announce&gt; for notice of API deprecations and breaking changes.'}}",
                        "\nDuring handling of the above exception, another exception occurred:\n",
                        "\u001b[0;31mTypeError\u001b[0m                                 Traceback (most recent call last)",
                        "\u001b[0;32m<ipython-input-14-3749070ede5f>\u001b[0m in \u001b[0;36m<module>\u001b[0;34m\u001b[0m\n\u001b[1;32m     18\u001b[0m             )\n\u001b[1;32m     19\u001b[0m         \u001b[0;32mexcept\u001b[0m \u001b[0mException\u001b[0m \u001b[0;32mas\u001b[0m \u001b[0me\u001b[0m\u001b[0;34m:\u001b[0m\u001b[0;34m\u001b[0m\u001b[0;34m\u001b[0m\u001b[0m\n\u001b[0;32m---> 20\u001b[0;31m             \u001b[0mprint\u001b[0m\u001b[0;34m(\u001b[0m\u001b[0;34m'Failed creating property for \"{}\". Error: \"{}\"'\u001b[0m\u001b[0;34m.\u001b[0m\u001b[0mformat\u001b[0m\u001b[0;34m(\u001b[0m\u001b[0mrow\u001b[0m\u001b[0;34m[\u001b[0m\u001b[0;34m\"English\"\u001b[0m\u001b[0;34m]\u001b[0m\u001b[0;34m,\u001b[0m \u001b[0me\u001b[0m\u001b[0;34m[\u001b[0m\u001b[0;34m'error'\u001b[0m\u001b[0;34m]\u001b[0m\u001b[0;34m)\u001b[0m\u001b[0;34m)\u001b[0m\u001b[0;34m\u001b[0m\u001b[0;34m\u001b[0m\u001b[0m\n\u001b[0m\u001b[1;32m     21\u001b[0m     \u001b[0;32melse\u001b[0m\u001b[0;34m:\u001b[0m\u001b[0;34m\u001b[0m\u001b[0;34m\u001b[0m\u001b[0m\n\u001b[1;32m     22\u001b[0m         \u001b[0mprint\u001b[0m\u001b[0;34m(\u001b[0m\u001b[0;34m'Error: Unsupported data type \"{}\"'\u001b[0m\u001b[0;34m.\u001b[0m\u001b[0mformat\u001b[0m\u001b[0;34m(\u001b[0m\u001b[0mrow\u001b[0m\u001b[0;34m[\u001b[0m\u001b[0;34m\"Data type\"\u001b[0m\u001b[0;34m]\u001b[0m\u001b[0;34m)\u001b[0m\u001b[0;34m)\u001b[0m\u001b[0;34m\u001b[0m\u001b[0;34m\u001b[0m\u001b[0m\n",
                        "\u001b[0;31mTypeError\u001b[0m: 'WDApiError' object is not subscriptable"
                    ]
                }
            ],
            "metadata": {}
        },
        {
            "cell_type": "code",
            "execution_count": null,
            "source": [
                "\n",
                "# # Create the controlled lists as described in DM_SAF\n",
                "# ## CL4 Gender\n",
                "\n",
                "CL4 = pd.read_excel(\"DM_SAF_vers.1.0.2_andra.xlsx\", sheet_name=\"CL4 GENDER\")\n",
                "for index, row in CL4.iterrows():\n",
                "    print(row[\"Label (English)\"])\n",
                "    item = localEntityEngine(new_item=True)\n",
                "    item.set_label(row[\"Label (English)\"], lang=\"en\")\n",
                "    item.set_label(row[\"Label (German)\"], lang=\"de\")\n",
                "    item.set_label(row[\"Label (French)\"], lang=\"fr\")\n",
                "    print(item.write(login))\n",
                "\n",
                "\n",
                "# ## CL5 STATUS\n",
                "\n",
                "CL5 = pd.read_excel(\"DM_SAF_vers.1.0.2_andra.xlsx\", sheet_name=\"CL5 STATUS\")\n",
                "for index, row in CL5.iterrows():\n",
                "    print(row[\"Label (English)\"])\n",
                "    item = localEntityEngine(new_item=True)\n",
                "    item.set_label(row[\"Label (English)\"], lang=\"en\")\n",
                "    item.set_label(row[\"Label (German)\"], lang=\"de\")\n",
                "    item.set_label(row[\"Label (French)\"], lang=\"fr\")\n",
                "    print(item.write(login))\n",
                "\n",
                "# ## CL3 Name Format\n",
                "\n",
                "CL3 = pd.read_excel(\"DM_SAF_vers.1.0.2_andra.xlsx\", sheet_name=\"CL3 Name Format\")\n",
                "for index, row in CL3.iterrows():\n",
                "    item = localEntityEngine(new_item=True)\n",
                "    item.set_label(row[\"Cataloging specs\"])\n",
                "    print(item.write(login))\n",
                "\n",
                "\n",
                "# # manually added external identifiers not yet covered in DMG\n",
                "\n",
                "#ARK\n",
                "createProperty(login, \n",
                "    lulabel=\"ARK\",\n",
                "    enlabel=\"ARK\",\n",
                "    frlabel=\"ARK\",\n",
                "    delabel=\"ARK\",\n",
                "    property_datatype=\"url\"\n",
                ")\n",
                "\n",
                "\n",
                "## DR: Now we create an item (Q?) with the label E21 (this should probably not happen here, but in the cidoc-crm importer)\n",
                "# person_item = localEntityEngine(new_item=True)\n",
                "# person_item.set_label(\"E21 Person\", lang=\"en\")\n",
                "# print(person_item.write(login))"
            ],
            "outputs": [],
            "metadata": {}
        },
        {
            "cell_type": "markdown",
            "source": [
                "# Results\n",
                "\n",
                "At the end of this process, we end up with:\n",
                "- a list of Properties (P1 - P75), \n",
                "- two items, Class (Owl:Class, Q1) and Property (Owl:ObjectProperty, Q2),\n",
                "- as well as items for Gender (male Q5, female Q6), Status and Name formats"
            ],
            "metadata": {}
        }
    ],
    "metadata": {
        "orig_nbformat": 4,
        "language_info": {
            "name": "python",
            "version": "3.9.2",
            "mimetype": "text/x-python",
            "codemirror_mode": {
                "name": "ipython",
                "version": 3
            },
            "pygments_lexer": "ipython3",
            "nbconvert_exporter": "python",
            "file_extension": ".py"
        },
        "kernelspec": {
            "name": "python3",
            "display_name": "Python 3.9.2 64-bit"
        },
        "interpreter": {
            "hash": "916dbcbb3f70747c44a77c7bcd40155683ae19c65e1c03b4aa3499c5328201f1"
        }
    },
    "nbformat": 4,
    "nbformat_minor": 2
}